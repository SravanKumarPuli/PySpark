{
 "cells": [
  {
   "cell_type": "code",
   "execution_count": 1,
   "id": "f164b9e7",
   "metadata": {},
   "outputs": [],
   "source": [
    "from pyspark.sql import SparkSession\n",
    "import getpass\n",
    "username = getpass.getuser()\n",
    "spark = SparkSession. \\\n",
    "\tbuilder. \\\n",
    "\tconfig('spark.ui.port','0'). \\\n",
    "\tconfig(\"spark.sql.warehouse.dir\", f\"/user/itv000173/warehouse\"). \\\n",
    "\tenableHiveSupport(). \\\n",
    "\tmaster('yarn'). \\\n",
    "\tgetOrCreate()"
   ]
  },
  {
   "cell_type": "code",
   "execution_count": 2,
   "id": "0aa056db",
   "metadata": {},
   "outputs": [],
   "source": [
    "orders_df = spark.read \\\n",
    ".format(\"csv\") \\\n",
    ".option(\"header\", \"true\") \\\n",
    ".option(\"inferSchema\", \"true\") \\\n",
    ".load(\"/public/trendytech/orders_wh/*\")"
   ]
  },
  {
   "cell_type": "code",
   "execution_count": 3,
   "id": "303a94f0",
   "metadata": {},
   "outputs": [
    {
     "name": "stdout",
     "output_type": "stream",
     "text": [
      "+--------+--------------------+-----------+---------------+\n",
      "|order_id|          order_date|customer_id|   order_status|\n",
      "+--------+--------------------+-----------+---------------+\n",
      "|       1|2013-07-25 00:00:...|      11599|         CLOSED|\n",
      "|       2|2013-07-25 00:00:...|        256|PENDING_PAYMENT|\n",
      "|       3|2013-07-25 00:00:...|      12111|       COMPLETE|\n",
      "|       4|2013-07-25 00:00:...|       8827|         CLOSED|\n",
      "|       5|2013-07-25 00:00:...|      11318|       COMPLETE|\n",
      "|       6|2013-07-25 00:00:...|       7130|       COMPLETE|\n",
      "|       7|2013-07-25 00:00:...|       4530|       COMPLETE|\n",
      "|       8|2013-07-25 00:00:...|       2911|     PROCESSING|\n",
      "|       9|2013-07-25 00:00:...|       5657|PENDING_PAYMENT|\n",
      "|      10|2013-07-25 00:00:...|       5648|PENDING_PAYMENT|\n",
      "|      11|2013-07-25 00:00:...|        918| PAYMENT_REVIEW|\n",
      "|      12|2013-07-25 00:00:...|       1837|         CLOSED|\n",
      "|      13|2013-07-25 00:00:...|       9149|PENDING_PAYMENT|\n",
      "|      14|2013-07-25 00:00:...|       9842|     PROCESSING|\n",
      "|      15|2013-07-25 00:00:...|       2568|       COMPLETE|\n",
      "|      16|2013-07-25 00:00:...|       7276|PENDING_PAYMENT|\n",
      "|      17|2013-07-25 00:00:...|       2667|       COMPLETE|\n",
      "|      18|2013-07-25 00:00:...|       1205|         CLOSED|\n",
      "|      19|2013-07-25 00:00:...|       9488|PENDING_PAYMENT|\n",
      "|      20|2013-07-25 00:00:...|       9198|     PROCESSING|\n",
      "+--------+--------------------+-----------+---------------+\n",
      "only showing top 20 rows\n",
      "\n"
     ]
    }
   ],
   "source": [
    "orders_df.show()"
   ]
  },
  {
   "cell_type": "code",
   "execution_count": 4,
   "id": "4a15208e",
   "metadata": {},
   "outputs": [
    {
     "data": {
      "text/html": [
       "<table border='1'>\n",
       "<tr><th>order_id</th><th>order_date</th><th>customer_id</th><th>order_status</th></tr>\n",
       "<tr><td>1</td><td>2013-07-25 00:00:...</td><td>11599</td><td>CLOSED</td></tr>\n",
       "<tr><td>2</td><td>2013-07-25 00:00:...</td><td>256</td><td>PENDING_PAYMENT</td></tr>\n",
       "<tr><td>3</td><td>2013-07-25 00:00:...</td><td>12111</td><td>COMPLETE</td></tr>\n",
       "<tr><td>4</td><td>2013-07-25 00:00:...</td><td>8827</td><td>CLOSED</td></tr>\n",
       "<tr><td>5</td><td>2013-07-25 00:00:...</td><td>11318</td><td>COMPLETE</td></tr>\n",
       "<tr><td>6</td><td>2013-07-25 00:00:...</td><td>7130</td><td>COMPLETE</td></tr>\n",
       "<tr><td>7</td><td>2013-07-25 00:00:...</td><td>4530</td><td>COMPLETE</td></tr>\n",
       "<tr><td>8</td><td>2013-07-25 00:00:...</td><td>2911</td><td>PROCESSING</td></tr>\n",
       "<tr><td>9</td><td>2013-07-25 00:00:...</td><td>5657</td><td>PENDING_PAYMENT</td></tr>\n",
       "<tr><td>10</td><td>2013-07-25 00:00:...</td><td>5648</td><td>PENDING_PAYMENT</td></tr>\n",
       "<tr><td>11</td><td>2013-07-25 00:00:...</td><td>918</td><td>PAYMENT_REVIEW</td></tr>\n",
       "<tr><td>12</td><td>2013-07-25 00:00:...</td><td>1837</td><td>CLOSED</td></tr>\n",
       "<tr><td>13</td><td>2013-07-25 00:00:...</td><td>9149</td><td>PENDING_PAYMENT</td></tr>\n",
       "<tr><td>14</td><td>2013-07-25 00:00:...</td><td>9842</td><td>PROCESSING</td></tr>\n",
       "<tr><td>15</td><td>2013-07-25 00:00:...</td><td>2568</td><td>COMPLETE</td></tr>\n",
       "<tr><td>16</td><td>2013-07-25 00:00:...</td><td>7276</td><td>PENDING_PAYMENT</td></tr>\n",
       "<tr><td>17</td><td>2013-07-25 00:00:...</td><td>2667</td><td>COMPLETE</td></tr>\n",
       "<tr><td>18</td><td>2013-07-25 00:00:...</td><td>1205</td><td>CLOSED</td></tr>\n",
       "<tr><td>19</td><td>2013-07-25 00:00:...</td><td>9488</td><td>PENDING_PAYMENT</td></tr>\n",
       "<tr><td>20</td><td>2013-07-25 00:00:...</td><td>9198</td><td>PROCESSING</td></tr>\n",
       "</table>\n",
       "only showing top 20 rows\n"
      ],
      "text/plain": [
       "+--------+--------------------+-----------+---------------+\n",
       "|order_id|          order_date|customer_id|   order_status|\n",
       "+--------+--------------------+-----------+---------------+\n",
       "|       1|2013-07-25 00:00:...|      11599|         CLOSED|\n",
       "|       2|2013-07-25 00:00:...|        256|PENDING_PAYMENT|\n",
       "|       3|2013-07-25 00:00:...|      12111|       COMPLETE|\n",
       "|       4|2013-07-25 00:00:...|       8827|         CLOSED|\n",
       "|       5|2013-07-25 00:00:...|      11318|       COMPLETE|\n",
       "|       6|2013-07-25 00:00:...|       7130|       COMPLETE|\n",
       "|       7|2013-07-25 00:00:...|       4530|       COMPLETE|\n",
       "|       8|2013-07-25 00:00:...|       2911|     PROCESSING|\n",
       "|       9|2013-07-25 00:00:...|       5657|PENDING_PAYMENT|\n",
       "|      10|2013-07-25 00:00:...|       5648|PENDING_PAYMENT|\n",
       "|      11|2013-07-25 00:00:...|        918| PAYMENT_REVIEW|\n",
       "|      12|2013-07-25 00:00:...|       1837|         CLOSED|\n",
       "|      13|2013-07-25 00:00:...|       9149|PENDING_PAYMENT|\n",
       "|      14|2013-07-25 00:00:...|       9842|     PROCESSING|\n",
       "|      15|2013-07-25 00:00:...|       2568|       COMPLETE|\n",
       "|      16|2013-07-25 00:00:...|       7276|PENDING_PAYMENT|\n",
       "|      17|2013-07-25 00:00:...|       2667|       COMPLETE|\n",
       "|      18|2013-07-25 00:00:...|       1205|         CLOSED|\n",
       "|      19|2013-07-25 00:00:...|       9488|PENDING_PAYMENT|\n",
       "|      20|2013-07-25 00:00:...|       9198|     PROCESSING|\n",
       "+--------+--------------------+-----------+---------------+\n",
       "only showing top 20 rows"
      ]
     },
     "execution_count": 4,
     "metadata": {},
     "output_type": "execute_result"
    }
   ],
   "source": [
    "spark.read \\\n",
    ".csv(\"/public/trendytech/orders_wh/*\", header = \"true\", inferSchema = \"true\")"
   ]
  },
  {
   "cell_type": "code",
   "execution_count": 5,
   "id": "ffc3d5b5",
   "metadata": {},
   "outputs": [
    {
     "data": {
      "text/html": [
       "<table border='1'>\n",
       "<tr><th>customer_id</th><th>order_date</th><th>order_id</th><th>order_status</th></tr>\n",
       "<tr><td>11599</td><td>2013-07-25 00:00:...</td><td>1</td><td>CLOSED</td></tr>\n",
       "<tr><td>256</td><td>2013-07-25 00:00:...</td><td>2</td><td>PENDING_PAYMENT</td></tr>\n",
       "<tr><td>12111</td><td>2013-07-25 00:00:...</td><td>3</td><td>COMPLETE</td></tr>\n",
       "<tr><td>8827</td><td>2013-07-25 00:00:...</td><td>4</td><td>CLOSED</td></tr>\n",
       "<tr><td>11318</td><td>2013-07-25 00:00:...</td><td>5</td><td>COMPLETE</td></tr>\n",
       "<tr><td>7130</td><td>2013-07-25 00:00:...</td><td>6</td><td>COMPLETE</td></tr>\n",
       "<tr><td>4530</td><td>2013-07-25 00:00:...</td><td>7</td><td>COMPLETE</td></tr>\n",
       "<tr><td>2911</td><td>2013-07-25 00:00:...</td><td>8</td><td>PROCESSING</td></tr>\n",
       "<tr><td>5657</td><td>2013-07-25 00:00:...</td><td>9</td><td>PENDING_PAYMENT</td></tr>\n",
       "<tr><td>5648</td><td>2013-07-25 00:00:...</td><td>10</td><td>PENDING_PAYMENT</td></tr>\n",
       "<tr><td>918</td><td>2013-07-25 00:00:...</td><td>11</td><td>PAYMENT_REVIEW</td></tr>\n",
       "<tr><td>1837</td><td>2013-07-25 00:00:...</td><td>12</td><td>CLOSED</td></tr>\n",
       "<tr><td>9149</td><td>2013-07-25 00:00:...</td><td>13</td><td>PENDING_PAYMENT</td></tr>\n",
       "<tr><td>9842</td><td>2013-07-25 00:00:...</td><td>14</td><td>PROCESSING</td></tr>\n",
       "<tr><td>2568</td><td>2013-07-25 00:00:...</td><td>15</td><td>COMPLETE</td></tr>\n",
       "<tr><td>7276</td><td>2013-07-25 00:00:...</td><td>16</td><td>PENDING_PAYMENT</td></tr>\n",
       "<tr><td>2667</td><td>2013-07-25 00:00:...</td><td>17</td><td>COMPLETE</td></tr>\n",
       "<tr><td>1205</td><td>2013-07-25 00:00:...</td><td>18</td><td>CLOSED</td></tr>\n",
       "<tr><td>9488</td><td>2013-07-25 00:00:...</td><td>19</td><td>PENDING_PAYMENT</td></tr>\n",
       "<tr><td>9198</td><td>2013-07-25 00:00:...</td><td>20</td><td>PROCESSING</td></tr>\n",
       "</table>\n",
       "only showing top 20 rows\n"
      ],
      "text/plain": [
       "+-----------+--------------------+--------+---------------+\n",
       "|customer_id|          order_date|order_id|   order_status|\n",
       "+-----------+--------------------+--------+---------------+\n",
       "|      11599|2013-07-25 00:00:...|       1|         CLOSED|\n",
       "|        256|2013-07-25 00:00:...|       2|PENDING_PAYMENT|\n",
       "|      12111|2013-07-25 00:00:...|       3|       COMPLETE|\n",
       "|       8827|2013-07-25 00:00:...|       4|         CLOSED|\n",
       "|      11318|2013-07-25 00:00:...|       5|       COMPLETE|\n",
       "|       7130|2013-07-25 00:00:...|       6|       COMPLETE|\n",
       "|       4530|2013-07-25 00:00:...|       7|       COMPLETE|\n",
       "|       2911|2013-07-25 00:00:...|       8|     PROCESSING|\n",
       "|       5657|2013-07-25 00:00:...|       9|PENDING_PAYMENT|\n",
       "|       5648|2013-07-25 00:00:...|      10|PENDING_PAYMENT|\n",
       "|        918|2013-07-25 00:00:...|      11| PAYMENT_REVIEW|\n",
       "|       1837|2013-07-25 00:00:...|      12|         CLOSED|\n",
       "|       9149|2013-07-25 00:00:...|      13|PENDING_PAYMENT|\n",
       "|       9842|2013-07-25 00:00:...|      14|     PROCESSING|\n",
       "|       2568|2013-07-25 00:00:...|      15|       COMPLETE|\n",
       "|       7276|2013-07-25 00:00:...|      16|PENDING_PAYMENT|\n",
       "|       2667|2013-07-25 00:00:...|      17|       COMPLETE|\n",
       "|       1205|2013-07-25 00:00:...|      18|         CLOSED|\n",
       "|       9488|2013-07-25 00:00:...|      19|PENDING_PAYMENT|\n",
       "|       9198|2013-07-25 00:00:...|      20|     PROCESSING|\n",
       "+-----------+--------------------+--------+---------------+\n",
       "only showing top 20 rows"
      ]
     },
     "execution_count": 5,
     "metadata": {},
     "output_type": "execute_result"
    }
   ],
   "source": [
    "spark.read \\\n",
    ".json(\"/public/trendytech/datasets/orders.json\")"
   ]
  },
  {
   "cell_type": "code",
   "execution_count": 6,
   "id": "3555df7c",
   "metadata": {},
   "outputs": [
    {
     "name": "stdout",
     "output_type": "stream",
     "text": [
      "root\n",
      " |-- order_id: integer (nullable = true)\n",
      " |-- order_date: string (nullable = true)\n",
      " |-- customer_id: integer (nullable = true)\n",
      " |-- order_status: string (nullable = true)\n",
      "\n"
     ]
    }
   ],
   "source": [
    "orders_df.printSchema()"
   ]
  },
  {
   "cell_type": "code",
   "execution_count": 7,
   "id": "dded2213",
   "metadata": {},
   "outputs": [],
   "source": [
    "orders_df = spark.read \\\n",
    ".parquet(\"/public/trendytech/datasets/ordersparquet\")"
   ]
  },
  {
   "cell_type": "code",
   "execution_count": 8,
   "id": "aedada3d",
   "metadata": {},
   "outputs": [
    {
     "name": "stdout",
     "output_type": "stream",
     "text": [
      "+-----------+--------------------+--------+---------------+\n",
      "|customer_id|          order_date|order_id|   order_status|\n",
      "+-----------+--------------------+--------+---------------+\n",
      "|      11599|2013-07-25 00:00:...|       1|         CLOSED|\n",
      "|        256|2013-07-25 00:00:...|       2|PENDING_PAYMENT|\n",
      "|      12111|2013-07-25 00:00:...|       3|       COMPLETE|\n",
      "|       8827|2013-07-25 00:00:...|       4|         CLOSED|\n",
      "|      11318|2013-07-25 00:00:...|       5|       COMPLETE|\n",
      "+-----------+--------------------+--------+---------------+\n",
      "only showing top 5 rows\n",
      "\n"
     ]
    }
   ],
   "source": [
    "orders_df.show(5)"
   ]
  },
  {
   "cell_type": "code",
   "execution_count": 10,
   "id": "771aa354",
   "metadata": {},
   "outputs": [],
   "source": [
    "filtered_df = orders_df.where(\"customer_id = 11599\")"
   ]
  },
  {
   "cell_type": "code",
   "execution_count": 11,
   "id": "a1deb802",
   "metadata": {},
   "outputs": [
    {
     "name": "stdout",
     "output_type": "stream",
     "text": [
      "+-----------+---------------------+--------+------------+\n",
      "|customer_id|order_date           |order_id|order_status|\n",
      "+-----------+---------------------+--------+------------+\n",
      "|11599      |2013-07-25 00:00:00.0|1       |CLOSED      |\n",
      "|11599      |2013-10-03 00:00:00.0|11397   |COMPLETE    |\n",
      "|11599      |2013-12-20 00:00:00.0|23908   |COMPLETE    |\n",
      "|11599      |2014-06-27 00:00:00.0|53545   |PENDING     |\n",
      "|11599      |2013-10-17 00:00:00.0|59911   |PROCESSING  |\n",
      "+-----------+---------------------+--------+------------+\n",
      "\n"
     ]
    }
   ],
   "source": [
    "filtered_df.show(truncate = False)"
   ]
  },
  {
   "cell_type": "code",
   "execution_count": 12,
   "id": "0dd63525",
   "metadata": {},
   "outputs": [
    {
     "name": "stdout",
     "output_type": "stream",
     "text": [
      "+-----------+--------------------+--------+------------+\n",
      "|customer_id|          order_date|order_id|order_status|\n",
      "+-----------+--------------------+--------+------------+\n",
      "|      11599|2013-07-25 00:00:...|       1|      CLOSED|\n",
      "|      11599|2013-10-03 00:00:...|   11397|    COMPLETE|\n",
      "|      11599|2013-12-20 00:00:...|   23908|    COMPLETE|\n",
      "|      11599|2014-06-27 00:00:...|   53545|     PENDING|\n",
      "|      11599|2013-10-17 00:00:...|   59911|  PROCESSING|\n",
      "+-----------+--------------------+--------+------------+\n",
      "\n"
     ]
    }
   ],
   "source": [
    "filtered_df.show()"
   ]
  },
  {
   "cell_type": "code",
   "execution_count": 14,
   "id": "e208a11f",
   "metadata": {},
   "outputs": [],
   "source": [
    "filtered_df = orders_df.where(\"customer_id = 11599\")"
   ]
  },
  {
   "cell_type": "code",
   "execution_count": 15,
   "id": "c9e70670",
   "metadata": {},
   "outputs": [
    {
     "name": "stdout",
     "output_type": "stream",
     "text": [
      "+-----------+--------------------+--------+------------+\n",
      "|customer_id|          order_date|order_id|order_status|\n",
      "+-----------+--------------------+--------+------------+\n",
      "|      11599|2013-07-25 00:00:...|       1|      CLOSED|\n",
      "|      11599|2013-10-03 00:00:...|   11397|    COMPLETE|\n",
      "|      11599|2013-12-20 00:00:...|   23908|    COMPLETE|\n",
      "|      11599|2014-06-27 00:00:...|   53545|     PENDING|\n",
      "|      11599|2013-10-17 00:00:...|   59911|  PROCESSING|\n",
      "+-----------+--------------------+--------+------------+\n",
      "\n"
     ]
    }
   ],
   "source": [
    "filtered_df.show()"
   ]
  },
  {
   "cell_type": "code",
   "execution_count": 19,
   "id": "5b4488b4",
   "metadata": {},
   "outputs": [],
   "source": [
    "orders_df.createOrReplaceTempView(\"orders\")"
   ]
  },
  {
   "cell_type": "code",
   "execution_count": 18,
   "id": "d84be4db",
   "metadata": {},
   "outputs": [],
   "source": [
    "filtered_df = spark.sql(\"select * from orders where order_status = 'CLOSED'\")"
   ]
  },
  {
   "cell_type": "code",
   "execution_count": 19,
   "id": "888c81f6",
   "metadata": {},
   "outputs": [
    {
     "name": "stdout",
     "output_type": "stream",
     "text": [
      "+-----------+--------------------+--------+------------+\n",
      "|customer_id|          order_date|order_id|order_status|\n",
      "+-----------+--------------------+--------+------------+\n",
      "|      11599|2013-07-25 00:00:...|       1|      CLOSED|\n",
      "|       8827|2013-07-25 00:00:...|       4|      CLOSED|\n",
      "|       1837|2013-07-25 00:00:...|      12|      CLOSED|\n",
      "|       1205|2013-07-25 00:00:...|      18|      CLOSED|\n",
      "|      11441|2013-07-25 00:00:...|      24|      CLOSED|\n",
      "|       9503|2013-07-25 00:00:...|      25|      CLOSED|\n",
      "|       5863|2013-07-25 00:00:...|      37|      CLOSED|\n",
      "|      12271|2013-07-25 00:00:...|      51|      CLOSED|\n",
      "|       7073|2013-07-25 00:00:...|      57|      CLOSED|\n",
      "|       4791|2013-07-25 00:00:...|      61|      CLOSED|\n",
      "|       9111|2013-07-25 00:00:...|      62|      CLOSED|\n",
      "|       3065|2013-07-25 00:00:...|      87|      CLOSED|\n",
      "|       9131|2013-07-25 00:00:...|      90|      CLOSED|\n",
      "|       5116|2013-07-25 00:00:...|     101|      CLOSED|\n",
      "|       8763|2013-07-26 00:00:...|     116|      CLOSED|\n",
      "|       9937|2013-07-26 00:00:...|     129|      CLOSED|\n",
      "|      10604|2013-07-26 00:00:...|     133|      CLOSED|\n",
      "|         16|2013-07-26 00:00:...|     191|      CLOSED|\n",
      "|       9055|2013-07-26 00:00:...|     201|      CLOSED|\n",
      "|      10372|2013-07-26 00:00:...|     211|      CLOSED|\n",
      "+-----------+--------------------+--------+------------+\n",
      "only showing top 20 rows\n",
      "\n"
     ]
    }
   ],
   "source": [
    "filtered_df.show()"
   ]
  },
  {
   "cell_type": "code",
   "execution_count": 20,
   "id": "5575bc1e",
   "metadata": {},
   "outputs": [],
   "source": [
    "ordersdf = spark.read.table(\"orders\")"
   ]
  },
  {
   "cell_type": "code",
   "execution_count": 21,
   "id": "45be39e2",
   "metadata": {},
   "outputs": [
    {
     "name": "stdout",
     "output_type": "stream",
     "text": [
      "+-----------+--------------------+--------+---------------+\n",
      "|customer_id|          order_date|order_id|   order_status|\n",
      "+-----------+--------------------+--------+---------------+\n",
      "|      11599|2013-07-25 00:00:...|       1|         CLOSED|\n",
      "|        256|2013-07-25 00:00:...|       2|PENDING_PAYMENT|\n",
      "|      12111|2013-07-25 00:00:...|       3|       COMPLETE|\n",
      "|       8827|2013-07-25 00:00:...|       4|         CLOSED|\n",
      "|      11318|2013-07-25 00:00:...|       5|       COMPLETE|\n",
      "|       7130|2013-07-25 00:00:...|       6|       COMPLETE|\n",
      "|       4530|2013-07-25 00:00:...|       7|       COMPLETE|\n",
      "|       2911|2013-07-25 00:00:...|       8|     PROCESSING|\n",
      "|       5657|2013-07-25 00:00:...|       9|PENDING_PAYMENT|\n",
      "|       5648|2013-07-25 00:00:...|      10|PENDING_PAYMENT|\n",
      "|        918|2013-07-25 00:00:...|      11| PAYMENT_REVIEW|\n",
      "|       1837|2013-07-25 00:00:...|      12|         CLOSED|\n",
      "|       9149|2013-07-25 00:00:...|      13|PENDING_PAYMENT|\n",
      "|       9842|2013-07-25 00:00:...|      14|     PROCESSING|\n",
      "|       2568|2013-07-25 00:00:...|      15|       COMPLETE|\n",
      "|       7276|2013-07-25 00:00:...|      16|PENDING_PAYMENT|\n",
      "|       2667|2013-07-25 00:00:...|      17|       COMPLETE|\n",
      "|       1205|2013-07-25 00:00:...|      18|         CLOSED|\n",
      "|       9488|2013-07-25 00:00:...|      19|PENDING_PAYMENT|\n",
      "|       9198|2013-07-25 00:00:...|      20|     PROCESSING|\n",
      "+-----------+--------------------+--------+---------------+\n",
      "only showing top 20 rows\n",
      "\n"
     ]
    }
   ],
   "source": [
    "ordersdf.show()"
   ]
  },
  {
   "cell_type": "code",
   "execution_count": 4,
   "id": "e396b8cb",
   "metadata": {},
   "outputs": [
    {
     "name": "stdout",
     "output_type": "stream",
     "text": [
      "+--------------------+\n",
      "|           namespace|\n",
      "+--------------------+\n",
      "|00000assign7_itv0...|\n",
      "| 0000_cache_spark111|\n",
      "|   0001_av_ivy_tesco|\n",
      "|          001_retail|\n",
      "|        003402_hive1|\n",
      "|    005198_ivy_tesco|\n",
      "|    005212_ivy_tesco|\n",
      "| 005222_ivy_practice|\n",
      "| 005260_ivy_database|\n",
      "|005876_week5_assi...|\n",
      "|       005933_retail|\n",
      "|006018_trendytech...|\n",
      "|        006539_week5|\n",
      "|      006539_week5_1|\n",
      "|     006586_database|\n",
      "|     006608_database|\n",
      "|006866_week5_assi...|\n",
      "|        007384_w5_db|\n",
      "| 008057_bucketing_db|\n",
      "|        008211_week5|\n",
      "+--------------------+\n",
      "only showing top 20 rows\n",
      "\n"
     ]
    }
   ],
   "source": [
    "spark.sql(\"show databases\").show()"
   ]
  },
  {
   "cell_type": "code",
   "execution_count": 5,
   "id": "6b8e7f7d",
   "metadata": {},
   "outputs": [
    {
     "data": {
      "text/html": [
       "<table border='1'>\n",
       "<tr><th>namespace</th></tr>\n",
       "</table>\n"
      ],
      "text/plain": [
       "+---------+\n",
       "|namespace|\n",
       "+---------+\n",
       "+---------+"
      ]
     },
     "execution_count": 5,
     "metadata": {},
     "output_type": "execute_result"
    }
   ],
   "source": [
    "spark.sql(\"show databases\").filter(\"namespace = 'itv009538%'\")"
   ]
  },
  {
   "cell_type": "code",
   "execution_count": 8,
   "id": "42c99eb2",
   "metadata": {},
   "outputs": [
    {
     "name": "stdout",
     "output_type": "stream",
     "text": [
      "+--------+-----------------+-----------+\n",
      "|database|        tableName|isTemporary|\n",
      "+--------+-----------------+-----------+\n",
      "| default|            1htab|      false|\n",
      "| default|   41group_movies|      false|\n",
      "| default|    4group_movies|      false|\n",
      "| default|             4tab|      false|\n",
      "| default|    6_flags_simon|      false|\n",
      "| default|                a|      false|\n",
      "| default|               aa|      false|\n",
      "| default|             acid|      false|\n",
      "| default|            acid1|      false|\n",
      "| default|     acid_example|      false|\n",
      "| default|    acid_example1|      false|\n",
      "| default|    acid_example2|      false|\n",
      "| default|           adata1|      false|\n",
      "| default|        adata_ell|      false|\n",
      "| default|         adata_vr|      false|\n",
      "| default|    ad_earthquake|      false|\n",
      "| default|ad_earthquake_par|      false|\n",
      "| default|           adelta|      false|\n",
      "| default|       adeltapart|      false|\n",
      "| default|   adeltapartbuck|      false|\n",
      "+--------+-----------------+-----------+\n",
      "only showing top 20 rows\n",
      "\n"
     ]
    }
   ],
   "source": [
    "spark.sql(\"show tables\").show()"
   ]
  },
  {
   "cell_type": "code",
   "execution_count": 11,
   "id": "e6a9c63f",
   "metadata": {},
   "outputs": [
    {
     "data": {
      "text/html": [
       "<table border='1'>\n",
       "<tr><th>namespace</th></tr>\n",
       "<tr><td>001_retail</td></tr>\n",
       "<tr><td>005933_retail</td></tr>\n",
       "<tr><td>008368_retaildb</td></tr>\n",
       "<tr><td>008368_retaildbnew</td></tr>\n",
       "<tr><td>008858_retaildb</td></tr>\n",
       "<tr><td>008858_retaildb1</td></tr>\n",
       "<tr><td>009490_retail</td></tr>\n",
       "<tr><td>00itv8696_retail</td></tr>\n",
       "<tr><td>07172021_retail</td></tr>\n",
       "<tr><td>1540retail_db</td></tr>\n",
       "<tr><td>6907_retail</td></tr>\n",
       "<tr><td>8368_retaildb</td></tr>\n",
       "<tr><td>8500_retail</td></tr>\n",
       "<tr><td>967_retail_db</td></tr>\n",
       "<tr><td>_retails</td></tr>\n",
       "<tr><td>a_itversity_retail</td></tr>\n",
       "<tr><td>ab_retail_db</td></tr>\n",
       "<tr><td>abc_retail_db</td></tr>\n",
       "<tr><td>abhi_retaildb</td></tr>\n",
       "<tr><td>abhinav_retail</td></tr>\n",
       "</table>\n",
       "only showing top 20 rows\n"
      ],
      "text/plain": [
       "+------------------+\n",
       "|         namespace|\n",
       "+------------------+\n",
       "|        001_retail|\n",
       "|     005933_retail|\n",
       "|   008368_retaildb|\n",
       "|008368_retaildbnew|\n",
       "|   008858_retaildb|\n",
       "|  008858_retaildb1|\n",
       "|     009490_retail|\n",
       "|  00itv8696_retail|\n",
       "|   07172021_retail|\n",
       "|     1540retail_db|\n",
       "|       6907_retail|\n",
       "|     8368_retaildb|\n",
       "|       8500_retail|\n",
       "|     967_retail_db|\n",
       "|          _retails|\n",
       "|a_itversity_retail|\n",
       "|      ab_retail_db|\n",
       "|     abc_retail_db|\n",
       "|     abhi_retaildb|\n",
       "|    abhinav_retail|\n",
       "+------------------+\n",
       "only showing top 20 rows"
      ]
     },
     "execution_count": 11,
     "metadata": {},
     "output_type": "execute_result"
    }
   ],
   "source": [
    "spark.sql(\"show databases\").where(\"namespace like '%retail%'\")"
   ]
  },
  {
   "cell_type": "code",
   "execution_count": 13,
   "id": "d996fe2c",
   "metadata": {},
   "outputs": [
    {
     "data": {
      "text/html": [
       "<table border='1'>\n",
       "<tr><th>namespace</th></tr>\n",
       "</table>\n"
      ],
      "text/plain": [
       "+---------+\n",
       "|namespace|\n",
       "+---------+\n",
       "+---------+"
      ]
     },
     "execution_count": 13,
     "metadata": {},
     "output_type": "execute_result"
    }
   ],
   "source": [
    "spark.sql(\"show databases\").filter(\"namespace like '%itv009538%'\")"
   ]
  },
  {
   "cell_type": "code",
   "execution_count": 15,
   "id": "b7327de8",
   "metadata": {},
   "outputs": [
    {
     "data": {
      "text/html": [
       "<table border='1'>\n",
       "<tr><th>database</th><th>tableName</th><th>isTemporary</th></tr>\n",
       "<tr><td>default</td><td>1htab</td><td>false</td></tr>\n",
       "<tr><td>default</td><td>41group_movies</td><td>false</td></tr>\n",
       "<tr><td>default</td><td>4group_movies</td><td>false</td></tr>\n",
       "<tr><td>default</td><td>4tab</td><td>false</td></tr>\n",
       "<tr><td>default</td><td>6_flags_simon</td><td>false</td></tr>\n",
       "<tr><td>default</td><td>a</td><td>false</td></tr>\n",
       "<tr><td>default</td><td>aa</td><td>false</td></tr>\n",
       "<tr><td>default</td><td>acid</td><td>false</td></tr>\n",
       "<tr><td>default</td><td>acid1</td><td>false</td></tr>\n",
       "<tr><td>default</td><td>acid_example</td><td>false</td></tr>\n",
       "<tr><td>default</td><td>acid_example1</td><td>false</td></tr>\n",
       "<tr><td>default</td><td>acid_example2</td><td>false</td></tr>\n",
       "<tr><td>default</td><td>adata1</td><td>false</td></tr>\n",
       "<tr><td>default</td><td>adata_ell</td><td>false</td></tr>\n",
       "<tr><td>default</td><td>adata_vr</td><td>false</td></tr>\n",
       "<tr><td>default</td><td>ad_earthquake</td><td>false</td></tr>\n",
       "<tr><td>default</td><td>ad_earthquake_par</td><td>false</td></tr>\n",
       "<tr><td>default</td><td>adelta</td><td>false</td></tr>\n",
       "<tr><td>default</td><td>adeltapart</td><td>false</td></tr>\n",
       "<tr><td>default</td><td>adeltapartbuck</td><td>false</td></tr>\n",
       "</table>\n",
       "only showing top 20 rows\n"
      ],
      "text/plain": [
       "+--------+-----------------+-----------+\n",
       "|database|        tableName|isTemporary|\n",
       "+--------+-----------------+-----------+\n",
       "| default|            1htab|      false|\n",
       "| default|   41group_movies|      false|\n",
       "| default|    4group_movies|      false|\n",
       "| default|             4tab|      false|\n",
       "| default|    6_flags_simon|      false|\n",
       "| default|                a|      false|\n",
       "| default|               aa|      false|\n",
       "| default|             acid|      false|\n",
       "| default|            acid1|      false|\n",
       "| default|     acid_example|      false|\n",
       "| default|    acid_example1|      false|\n",
       "| default|    acid_example2|      false|\n",
       "| default|           adata1|      false|\n",
       "| default|        adata_ell|      false|\n",
       "| default|         adata_vr|      false|\n",
       "| default|    ad_earthquake|      false|\n",
       "| default|ad_earthquake_par|      false|\n",
       "| default|           adelta|      false|\n",
       "| default|       adeltapart|      false|\n",
       "| default|   adeltapartbuck|      false|\n",
       "+--------+-----------------+-----------+\n",
       "only showing top 20 rows"
      ]
     },
     "execution_count": 15,
     "metadata": {},
     "output_type": "execute_result"
    }
   ],
   "source": [
    "spark.sql(\"show tables\")"
   ]
  },
  {
   "cell_type": "code",
   "execution_count": 24,
   "id": "d978fff0",
   "metadata": {},
   "outputs": [
    {
     "name": "stdout",
     "output_type": "stream",
     "text": [
      "+----------------------------+-------------------------------------------------------------------------------------------------------------+-------+\n",
      "|col_name                    |data_type                                                                                                    |comment|\n",
      "+----------------------------+-------------------------------------------------------------------------------------------------------------+-------+\n",
      "|id                          |int                                                                                                          |null   |\n",
      "|name                        |string                                                                                                       |null   |\n",
      "|check1                      |string                                                                                                       |null   |\n",
      "|country                     |string                                                                                                       |null   |\n",
      "|                            |                                                                                                             |       |\n",
      "|# Detailed Table Information|                                                                                                             |       |\n",
      "|Database                    |default                                                                                                      |       |\n",
      "|Table                       |acid_example                                                                                                 |       |\n",
      "|Owner                       |itv002360                                                                                                    |       |\n",
      "|Created Time                |Fri Jul 29 04:55:15 EDT 2022                                                                                 |       |\n",
      "|Last Access                 |UNKNOWN                                                                                                      |       |\n",
      "|Created By                  |Spark 2.2 or prior                                                                                           |       |\n",
      "|Type                        |MANAGED                                                                                                      |       |\n",
      "|Provider                    |hive                                                                                                         |       |\n",
      "|Num Buckets                 |3                                                                                                            |       |\n",
      "|Bucket Columns              |[`country`]                                                                                                  |       |\n",
      "|Sort Columns                |[]                                                                                                           |       |\n",
      "|Table Properties            |[bucketing_version=2, transactional=true, transactional_properties=default, transient_lastDdlTime=1659084915]|       |\n",
      "|Statistics                  |40533 bytes                                                                                                  |       |\n",
      "|Location                    |hdfs://m01.itversity.com:9000/user/itv002360                                                                 |       |\n",
      "+----------------------------+-------------------------------------------------------------------------------------------------------------+-------+\n",
      "only showing top 20 rows\n",
      "\n"
     ]
    }
   ],
   "source": [
    "spark.sql(\"describe extended default.acid_example\").show(truncate = False)"
   ]
  },
  {
   "cell_type": "code",
   "execution_count": null,
   "id": "4f46dc3b",
   "metadata": {},
   "outputs": [],
   "source": []
  }
 ],
 "metadata": {
  "kernelspec": {
   "display_name": "Pyspark 3",
   "language": "python",
   "name": "pyspark3"
  },
  "language_info": {
   "codemirror_mode": {
    "name": "ipython",
    "version": 3
   },
   "file_extension": ".py",
   "mimetype": "text/x-python",
   "name": "python",
   "nbconvert_exporter": "python",
   "pygments_lexer": "ipython3",
   "version": "3.6.12"
  }
 },
 "nbformat": 4,
 "nbformat_minor": 5
}
