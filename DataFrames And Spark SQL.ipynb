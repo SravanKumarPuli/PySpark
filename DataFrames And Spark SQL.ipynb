{
 "cells": [
  {
   "cell_type": "code",
   "execution_count": 1,
   "id": "6713fd3f",
   "metadata": {},
   "outputs": [],
   "source": [
    "from pyspark.sql import SparkSession\n",
    "import getpass\n",
    "username = getpass.getuser()\n",
    "spark = SparkSession. \\\n",
    "    builder. \\\n",
    "    config('spark.ui.port', '0'). \\\n",
    "    config(\"spark.sql.warehouse.dir\", f\"/user/itv009538/warehouse\"). \\\n",
    "    enableHiveSupport(). \\\n",
    "    master('yarn'). \\\n",
    "    getOrCreate()"
   ]
  },
  {
   "cell_type": "markdown",
   "id": "6dabe18d",
   "metadata": {},
   "source": [
    "# Higher Level API's - DataFrames and Spark SQL\n",
    "## 1. Creating managed and external spark tables using CSV and JSON files\n",
    "## 2. Spark programs/queries to analyze the data in the HDFS using DataFrames and Spark SQL"
   ]
  },
  {
   "cell_type": "code",
   "execution_count": 2,
   "id": "c39bcd29",
   "metadata": {},
   "outputs": [
    {
     "data": {
      "text/html": [
       "\n",
       "            <div>\n",
       "                <p><b>SparkSession - hive</b></p>\n",
       "                \n",
       "        <div>\n",
       "            <p><b>SparkContext</b></p>\n",
       "\n",
       "            <p><a href=\"http://g01.itversity.com:46393\">Spark UI</a></p>\n",
       "\n",
       "            <dl>\n",
       "              <dt>Version</dt>\n",
       "                <dd><code>v3.1.2</code></dd>\n",
       "              <dt>Master</dt>\n",
       "                <dd><code>yarn</code></dd>\n",
       "              <dt>AppName</dt>\n",
       "                <dd><code>pyspark-shell</code></dd>\n",
       "            </dl>\n",
       "        </div>\n",
       "        \n",
       "            </div>\n",
       "        "
      ],
      "text/plain": [
       "<pyspark.sql.session.SparkSession at 0x7f2629532f60>"
      ]
     },
     "execution_count": 2,
     "metadata": {},
     "output_type": "execute_result"
    }
   ],
   "source": [
    "spark"
   ]
  },
  {
   "cell_type": "markdown",
   "id": "fb88f153",
   "metadata": {},
   "source": [
    "## 1.1 Create a managed spark table and load data to it from the CSV file"
   ]
  },
  {
   "cell_type": "code",
   "execution_count": 5,
   "id": "d06f66ba",
   "metadata": {},
   "outputs": [
    {
     "data": {
      "text/html": [
       "<table border='1'>\n",
       "<tr><th></th></tr>\n",
       "</table>\n"
      ],
      "text/plain": [
       "++\n",
       "||\n",
       "++\n",
       "++"
      ]
     },
     "execution_count": 5,
     "metadata": {},
     "output_type": "execute_result"
    }
   ],
   "source": [
    "spark.sql(\"use itv009538_week5_assignment\")"
   ]
  },
  {
   "cell_type": "code",
   "execution_count": 6,
   "id": "dfe6da6c",
   "metadata": {},
   "outputs": [
    {
     "data": {
      "text/html": [
       "<table border='1'>\n",
       "<tr><th></th></tr>\n",
       "</table>\n"
      ],
      "text/plain": [
       "++\n",
       "||\n",
       "++\n",
       "++"
      ]
     },
     "execution_count": 6,
     "metadata": {},
     "output_type": "execute_result"
    }
   ],
   "source": [
    "spark.sql(\"create table itv009538_week5_assignment.groceries(order_id string, location string, item string, order_date string, quantity integer)\")"
   ]
  },
  {
   "cell_type": "code",
   "execution_count": 8,
   "id": "8891baa2",
   "metadata": {},
   "outputs": [
    {
     "name": "stdout",
     "output_type": "stream",
     "text": [
      "+--------------------+---------+-----------+\n",
      "|            database|tableName|isTemporary|\n",
      "+--------------------+---------+-----------+\n",
      "|itv009538_week5_a...|groceries|      false|\n",
      "|itv009538_week5_a...|    test1|      false|\n",
      "+--------------------+---------+-----------+\n",
      "\n"
     ]
    }
   ],
   "source": [
    "spark.sql(\"show tables\").show()"
   ]
  },
  {
   "cell_type": "code",
   "execution_count": 9,
   "id": "0207924e",
   "metadata": {},
   "outputs": [],
   "source": [
    "groceries_df = spark.read.csv(\"/public/trendytech/groceries.csv\", header=\"true\", inferSchema = \"true\")"
   ]
  },
  {
   "cell_type": "code",
   "execution_count": 10,
   "id": "8c1fd3b0",
   "metadata": {},
   "outputs": [
    {
     "name": "stdout",
     "output_type": "stream",
     "text": [
      "root\n",
      " |-- order_id: string (nullable = true)\n",
      " |-- location: string (nullable = true)\n",
      " |-- item: string (nullable = true)\n",
      " |-- order_date: string (nullable = true)\n",
      " |-- quantity: integer (nullable = true)\n",
      "\n"
     ]
    }
   ],
   "source": [
    "groceries_df.printSchema()"
   ]
  },
  {
   "cell_type": "code",
   "execution_count": 11,
   "id": "28bdc50b",
   "metadata": {},
   "outputs": [
    {
     "name": "stdout",
     "output_type": "stream",
     "text": [
      "+--------+--------+--------+----------+--------+\n",
      "|order_id|location|    item|order_date|quantity|\n",
      "+--------+--------+--------+----------+--------+\n",
      "|      o1| Seattle| Bananas|01/01/2017|       7|\n",
      "|      o2|    Kent|  Apples|02/01/2017|      20|\n",
      "|      o3|Bellevue| Flowers|02/01/2017|      10|\n",
      "|      o4| Redmond|    Meat|03/01/2017|      40|\n",
      "|      o5| Seattle|Potatoes|04/01/2017|       9|\n",
      "+--------+--------+--------+----------+--------+\n",
      "only showing top 5 rows\n",
      "\n"
     ]
    }
   ],
   "source": [
    "groceries_df.show(5)"
   ]
  },
  {
   "cell_type": "code",
   "execution_count": 12,
   "id": "be0b6d7e",
   "metadata": {},
   "outputs": [],
   "source": [
    "groceries_df.createOrReplaceTempView(\"groceries_temp\")"
   ]
  },
  {
   "cell_type": "code",
   "execution_count": 13,
   "id": "4a90fad2",
   "metadata": {},
   "outputs": [
    {
     "name": "stdout",
     "output_type": "stream",
     "text": [
      "+--------+---------+--------+----------+--------+\n",
      "|order_id| location|    item|order_date|quantity|\n",
      "+--------+---------+--------+----------+--------+\n",
      "|      o1|  Seattle| Bananas|01/01/2017|       7|\n",
      "|      o2|     Kent|  Apples|02/01/2017|      20|\n",
      "|      o3| Bellevue| Flowers|02/01/2017|      10|\n",
      "|      o4|  Redmond|    Meat|03/01/2017|      40|\n",
      "|      o5|  Seattle|Potatoes|04/01/2017|       9|\n",
      "|      o6| Bellevue|   Bread|04/01/2017|       5|\n",
      "|      o7|  Redmond|   Bread|05/01/2017|       5|\n",
      "|      o8| Issaquah|   Onion|05/01/2017|       4|\n",
      "|      o9|  Redmond|  Cheese|05/01/2017|      15|\n",
      "|     o10| Issaquah|   Onion|06/01/2017|       4|\n",
      "|     o11|   Renton|   Bread|05/01/2017|       5|\n",
      "|     o12| Issaquah|   Onion|07/01/2017|       4|\n",
      "|     o13|Sammamish|   Bread|07/01/2017|       5|\n",
      "|     o14| Issaquah|  Tomato|07/01/2017|       6|\n",
      "|     o15| Issaquah|    Meat|08/01/2017|       3|\n",
      "|     o16| Issaquah|    Meat|09/01/2017|       5|\n",
      "|     o17| Issaquah|    Meat|10/01/2017|       6|\n",
      "|     o18| Bellevue|   Bread|11/01/2017|       7|\n",
      "|     o19| Bellevue|   Bread|12/01/2017|      54|\n",
      "|     o20| Bellevue|   Bread|13/01/2017|      34|\n",
      "+--------+---------+--------+----------+--------+\n",
      "only showing top 20 rows\n",
      "\n"
     ]
    }
   ],
   "source": [
    "spark.sql(\"select * from groceries_temp\").show()"
   ]
  },
  {
   "cell_type": "code",
   "execution_count": 15,
   "id": "a4351786",
   "metadata": {},
   "outputs": [
    {
     "data": {
      "text/html": [
       "<table border='1'>\n",
       "<tr><th></th></tr>\n",
       "</table>\n"
      ],
      "text/plain": [
       "++\n",
       "||\n",
       "++\n",
       "++"
      ]
     },
     "execution_count": 15,
     "metadata": {},
     "output_type": "execute_result"
    }
   ],
   "source": [
    "spark.sql(\"insert into itv009538_week5_assignment.groceries select * from groceries_temp\")"
   ]
  },
  {
   "cell_type": "code",
   "execution_count": 17,
   "id": "0911a2d5",
   "metadata": {},
   "outputs": [
    {
     "name": "stdout",
     "output_type": "stream",
     "text": [
      "+--------+--------+--------+----------+--------+\n",
      "|order_id|location|    item|order_date|quantity|\n",
      "+--------+--------+--------+----------+--------+\n",
      "|      o1| Seattle| Bananas|01/01/2017|       7|\n",
      "|      o2|    Kent|  Apples|02/01/2017|      20|\n",
      "|      o3|Bellevue| Flowers|02/01/2017|      10|\n",
      "|      o4| Redmond|    Meat|03/01/2017|      40|\n",
      "|      o5| Seattle|Potatoes|04/01/2017|       9|\n",
      "+--------+--------+--------+----------+--------+\n",
      "\n"
     ]
    }
   ],
   "source": [
    "spark.sql(\"select * from itv009538_week5_assignment.groceries limit 5\").show()"
   ]
  },
  {
   "cell_type": "code",
   "execution_count": 19,
   "id": "b9b4959e",
   "metadata": {},
   "outputs": [
    {
     "name": "stdout",
     "output_type": "stream",
     "text": [
      "+--------------------+--------------+-----------+\n",
      "|            database|     tableName|isTemporary|\n",
      "+--------------------+--------------+-----------+\n",
      "|itv009538_week5_a...|     groceries|      false|\n",
      "|itv009538_week5_a...|         test1|      false|\n",
      "|                    |groceries_temp|       true|\n",
      "+--------------------+--------------+-----------+\n",
      "\n"
     ]
    }
   ],
   "source": [
    "spark.sql(\"show tables\").show()"
   ]
  },
  {
   "cell_type": "code",
   "execution_count": 20,
   "id": "89948921",
   "metadata": {},
   "outputs": [
    {
     "name": "stdout",
     "output_type": "stream",
     "text": [
      "+----------------------------+----------------------------------------------------------------------------------------------+-------+\n",
      "|col_name                    |data_type                                                                                     |comment|\n",
      "+----------------------------+----------------------------------------------------------------------------------------------+-------+\n",
      "|order_id                    |string                                                                                        |null   |\n",
      "|location                    |string                                                                                        |null   |\n",
      "|item                        |string                                                                                        |null   |\n",
      "|order_date                  |string                                                                                        |null   |\n",
      "|quantity                    |int                                                                                           |null   |\n",
      "|                            |                                                                                              |       |\n",
      "|# Detailed Table Information|                                                                                              |       |\n",
      "|Database                    |itv009538_week5_assignment                                                                    |       |\n",
      "|Table                       |groceries                                                                                     |       |\n",
      "|Owner                       |itv009538                                                                                     |       |\n",
      "|Created Time                |Tue Nov 14 13:24:22 EST 2023                                                                  |       |\n",
      "|Last Access                 |UNKNOWN                                                                                       |       |\n",
      "|Created By                  |Spark 3.1.2                                                                                   |       |\n",
      "|Type                        |MANAGED                                                                                       |       |\n",
      "|Provider                    |hive                                                                                          |       |\n",
      "|Table Properties            |[transient_lastDdlTime=1699986643]                                                            |       |\n",
      "|Statistics                  |666 bytes                                                                                     |       |\n",
      "|Location                    |hdfs://m01.itversity.com:9000/user/itv009538/warehouse/itv009538_week5_assignment.db/groceries|       |\n",
      "|Serde Library               |org.apache.hadoop.hive.serde2.lazy.LazySimpleSerDe                                            |       |\n",
      "|InputFormat                 |org.apache.hadoop.mapred.TextInputFormat                                                      |       |\n",
      "+----------------------------+----------------------------------------------------------------------------------------------+-------+\n",
      "only showing top 20 rows\n",
      "\n"
     ]
    }
   ],
   "source": [
    "spark.sql(\"describe extended itv009538_week5_assignment.groceries\").show(truncate = False)"
   ]
  },
  {
   "cell_type": "markdown",
   "id": "d888760f",
   "metadata": {},
   "source": [
    "## 1.2 Create an external spark table with the same data"
   ]
  },
  {
   "cell_type": "code",
   "execution_count": 7,
   "id": "c0acf413",
   "metadata": {},
   "outputs": [
    {
     "data": {
      "text/html": [
       "<table border='1'>\n",
       "<tr><th></th></tr>\n",
       "</table>\n"
      ],
      "text/plain": [
       "++\n",
       "||\n",
       "++\n",
       "++"
      ]
     },
     "execution_count": 7,
     "metadata": {},
     "output_type": "execute_result"
    }
   ],
   "source": [
    "spark.sql(\"create table itv009538_week5_assignment.groceries_external_table (order_id string, location string, order_date string, quantity integer) using csv options (header='true') location '/public/trendytech/groceries.csv'\")"
   ]
  },
  {
   "cell_type": "code",
   "execution_count": 8,
   "id": "9036e7a6",
   "metadata": {},
   "outputs": [
    {
     "data": {
      "text/html": [
       "<table border='1'>\n",
       "<tr><th>order_id</th><th>location</th><th>order_date</th><th>quantity</th></tr>\n",
       "<tr><td>o1</td><td>Seattle</td><td>Bananas</td><td>null</td></tr>\n",
       "<tr><td>o2</td><td>Kent</td><td>Apples</td><td>null</td></tr>\n",
       "<tr><td>o3</td><td>Bellevue</td><td>Flowers</td><td>null</td></tr>\n",
       "<tr><td>o4</td><td>Redmond</td><td>Meat</td><td>null</td></tr>\n",
       "<tr><td>o5</td><td>Seattle</td><td>Potatoes</td><td>null</td></tr>\n",
       "</table>\n"
      ],
      "text/plain": [
       "+--------+--------+----------+--------+\n",
       "|order_id|location|order_date|quantity|\n",
       "+--------+--------+----------+--------+\n",
       "|      o1| Seattle|   Bananas|    null|\n",
       "|      o2|    Kent|    Apples|    null|\n",
       "|      o3|Bellevue|   Flowers|    null|\n",
       "|      o4| Redmond|      Meat|    null|\n",
       "|      o5| Seattle|  Potatoes|    null|\n",
       "+--------+--------+----------+--------+"
      ]
     },
     "execution_count": 8,
     "metadata": {},
     "output_type": "execute_result"
    }
   ],
   "source": [
    "spark.sql(\"select * from itv009538_week5_assignment.groceries_external_table limit 5\")"
   ]
  },
  {
   "cell_type": "code",
   "execution_count": 9,
   "id": "c9d35b13",
   "metadata": {},
   "outputs": [
    {
     "name": "stdout",
     "output_type": "stream",
     "text": [
      "+----------------------------+-------------------------------------------------------------+-------+\n",
      "|col_name                    |data_type                                                    |comment|\n",
      "+----------------------------+-------------------------------------------------------------+-------+\n",
      "|order_id                    |string                                                       |null   |\n",
      "|location                    |string                                                       |null   |\n",
      "|order_date                  |string                                                       |null   |\n",
      "|quantity                    |int                                                          |null   |\n",
      "|                            |                                                             |       |\n",
      "|# Detailed Table Information|                                                             |       |\n",
      "|Database                    |itv009538_week5_assignment                                   |       |\n",
      "|Table                       |groceries_external_table                                     |       |\n",
      "|Owner                       |itv009538                                                    |       |\n",
      "|Created Time                |Tue Nov 14 16:39:19 EST 2023                                 |       |\n",
      "|Last Access                 |UNKNOWN                                                      |       |\n",
      "|Created By                  |Spark 3.1.2                                                  |       |\n",
      "|Type                        |EXTERNAL                                                     |       |\n",
      "|Provider                    |csv                                                          |       |\n",
      "|Location                    |hdfs://m01.itversity.com:9000/public/trendytech/groceries.csv|       |\n",
      "|Serde Library               |org.apache.hadoop.hive.serde2.lazy.LazySimpleSerDe           |       |\n",
      "|InputFormat                 |org.apache.hadoop.mapred.SequenceFileInputFormat             |       |\n",
      "|OutputFormat                |org.apache.hadoop.hive.ql.io.HiveSequenceFileOutputFormat    |       |\n",
      "|Storage Properties          |[header=true]                                                |       |\n",
      "+----------------------------+-------------------------------------------------------------+-------+\n",
      "\n"
     ]
    }
   ],
   "source": [
    "spark.sql(\"describe extended itv009538_week5_assignment.groceries_external_table\").show(truncate=False)"
   ]
  },
  {
   "cell_type": "markdown",
   "id": "1ca648a8",
   "metadata": {},
   "source": [
    "## 1.3 Dropping external table - only metadata gets deleted"
   ]
  },
  {
   "cell_type": "code",
   "execution_count": 19,
   "id": "db4c7b3f",
   "metadata": {},
   "outputs": [
    {
     "name": "stdout",
     "output_type": "stream",
     "text": [
      "+--------------------------+------------------------+-----------+\n",
      "|database                  |tableName               |isTemporary|\n",
      "+--------------------------+------------------------+-----------+\n",
      "|itv009538_week5_assignment|gorceries_external_table|false      |\n",
      "|itv009538_week5_assignment|groceries               |false      |\n",
      "|itv009538_week5_assignment|test1                   |false      |\n",
      "+--------------------------+------------------------+-----------+\n",
      "\n"
     ]
    }
   ],
   "source": [
    "spark.sql(\"show tables\").show(truncate = False)"
   ]
  },
  {
   "cell_type": "code",
   "execution_count": 20,
   "id": "59812a17",
   "metadata": {},
   "outputs": [
    {
     "data": {
      "text/html": [
       "<table border='1'>\n",
       "<tr><th></th></tr>\n",
       "</table>\n"
      ],
      "text/plain": [
       "++\n",
       "||\n",
       "++\n",
       "++"
      ]
     },
     "execution_count": 20,
     "metadata": {},
     "output_type": "execute_result"
    }
   ],
   "source": [
    "spark.sql(\"drop table gorceries_external_table\")"
   ]
  },
  {
   "cell_type": "code",
   "execution_count": 21,
   "id": "b0cf5748",
   "metadata": {},
   "outputs": [
    {
     "name": "stdout",
     "output_type": "stream",
     "text": [
      "+--------------------------+---------+-----------+\n",
      "|database                  |tableName|isTemporary|\n",
      "+--------------------------+---------+-----------+\n",
      "|itv009538_week5_assignment|groceries|false      |\n",
      "|itv009538_week5_assignment|test1    |false      |\n",
      "+--------------------------+---------+-----------+\n",
      "\n"
     ]
    }
   ],
   "source": [
    "spark.sql(\"show tables\").show(truncate = False)"
   ]
  },
  {
   "cell_type": "markdown",
   "id": "03e31a7f",
   "metadata": {},
   "source": [
    "## 1.4 Delete managed table - both the data and metadata will get deleted"
   ]
  },
  {
   "cell_type": "code",
   "execution_count": 22,
   "id": "7c6f5173",
   "metadata": {},
   "outputs": [
    {
     "data": {
      "text/html": [
       "<table border='1'>\n",
       "<tr><th></th></tr>\n",
       "</table>\n"
      ],
      "text/plain": [
       "++\n",
       "||\n",
       "++\n",
       "++"
      ]
     },
     "execution_count": 22,
     "metadata": {},
     "output_type": "execute_result"
    }
   ],
   "source": [
    "spark.sql(\"drop table groceries\")"
   ]
  },
  {
   "cell_type": "code",
   "execution_count": 23,
   "id": "69595691",
   "metadata": {},
   "outputs": [
    {
     "name": "stdout",
     "output_type": "stream",
     "text": [
      "+--------------------------+---------+-----------+\n",
      "|database                  |tableName|isTemporary|\n",
      "+--------------------------+---------+-----------+\n",
      "|itv009538_week5_assignment|test1    |false      |\n",
      "+--------------------------+---------+-----------+\n",
      "\n"
     ]
    }
   ],
   "source": [
    "spark.sql(\"show tables\").show(truncate = False)"
   ]
  },
  {
   "cell_type": "markdown",
   "id": "d48c9648",
   "metadata": {},
   "source": [
    "## 1.5 Create a managed spark table and load data to it from the JSON file"
   ]
  },
  {
   "cell_type": "code",
   "execution_count": 24,
   "id": "19815f65",
   "metadata": {},
   "outputs": [
    {
     "data": {
      "text/html": [
       "<table border='1'>\n",
       "<tr><th></th></tr>\n",
       "</table>\n"
      ],
      "text/plain": [
       "++\n",
       "||\n",
       "++\n",
       "++"
      ]
     },
     "execution_count": 24,
     "metadata": {},
     "output_type": "execute_result"
    }
   ],
   "source": [
    "spark.sql(\"create table itv009538_week5_assignment.orders(order_id integer,order_date string,customer_id integer,order_status string)\")"
   ]
  },
  {
   "cell_type": "code",
   "execution_count": 25,
   "id": "f48c3784",
   "metadata": {},
   "outputs": [],
   "source": [
    "orders_df=spark.read.json(\"/public/trendytech/datasets/orders.json\")"
   ]
  },
  {
   "cell_type": "code",
   "execution_count": 26,
   "id": "a3eb4c6a",
   "metadata": {},
   "outputs": [],
   "source": [
    "orders_df_new=orders_df.select(\"order_id\",\"order_date\",\"customer_id\",\"order_status\")"
   ]
  },
  {
   "cell_type": "code",
   "execution_count": 27,
   "id": "8d142595",
   "metadata": {},
   "outputs": [
    {
     "name": "stdout",
     "output_type": "stream",
     "text": [
      "+--------+--------------------+-----------+---------------+\n",
      "|order_id|          order_date|customer_id|   order_status|\n",
      "+--------+--------------------+-----------+---------------+\n",
      "|       1|2013-07-25 00:00:...|      11599|         CLOSED|\n",
      "|       2|2013-07-25 00:00:...|        256|PENDING_PAYMENT|\n",
      "|       3|2013-07-25 00:00:...|      12111|       COMPLETE|\n",
      "|       4|2013-07-25 00:00:...|       8827|         CLOSED|\n",
      "|       5|2013-07-25 00:00:...|      11318|       COMPLETE|\n",
      "+--------+--------------------+-----------+---------------+\n",
      "only showing top 5 rows\n",
      "\n"
     ]
    }
   ],
   "source": [
    "orders_df_new.show(5)"
   ]
  },
  {
   "cell_type": "code",
   "execution_count": 28,
   "id": "5fea9622",
   "metadata": {},
   "outputs": [],
   "source": [
    "orders_df_new.createOrReplaceTempView(\"orders_temp\")"
   ]
  },
  {
   "cell_type": "code",
   "execution_count": 29,
   "id": "180dfdc5",
   "metadata": {},
   "outputs": [
    {
     "name": "stdout",
     "output_type": "stream",
     "text": [
      "+--------+--------------------+-----------+---------------+\n",
      "|order_id|          order_date|customer_id|   order_status|\n",
      "+--------+--------------------+-----------+---------------+\n",
      "|       1|2013-07-25 00:00:...|      11599|         CLOSED|\n",
      "|       2|2013-07-25 00:00:...|        256|PENDING_PAYMENT|\n",
      "|       3|2013-07-25 00:00:...|      12111|       COMPLETE|\n",
      "|       4|2013-07-25 00:00:...|       8827|         CLOSED|\n",
      "|       5|2013-07-25 00:00:...|      11318|       COMPLETE|\n",
      "+--------+--------------------+-----------+---------------+\n",
      "only showing top 5 rows\n",
      "\n"
     ]
    }
   ],
   "source": [
    "spark.sql(\"select * from orders_temp\").show(5)"
   ]
  },
  {
   "cell_type": "code",
   "execution_count": 30,
   "id": "b983ca68",
   "metadata": {},
   "outputs": [
    {
     "data": {
      "text/html": [
       "<table border='1'>\n",
       "<tr><th></th></tr>\n",
       "</table>\n"
      ],
      "text/plain": [
       "++\n",
       "||\n",
       "++\n",
       "++"
      ]
     },
     "execution_count": 30,
     "metadata": {},
     "output_type": "execute_result"
    }
   ],
   "source": [
    "spark.sql(\"insert into itv009538_week5_assignment.orders select * from orders_temp\")"
   ]
  },
  {
   "cell_type": "code",
   "execution_count": 31,
   "id": "a11aad74",
   "metadata": {},
   "outputs": [
    {
     "name": "stdout",
     "output_type": "stream",
     "text": [
      "+--------+--------------------+-----------+---------------+\n",
      "|order_id|          order_date|customer_id|   order_status|\n",
      "+--------+--------------------+-----------+---------------+\n",
      "|   34565|2014-02-23 00:00:...|       8702|       COMPLETE|\n",
      "|   34566|2014-02-23 00:00:...|       3066|PENDING_PAYMENT|\n",
      "|   34567|2014-02-23 00:00:...|       7314|SUSPECTED_FRAUD|\n",
      "|   34568|2014-02-23 00:00:...|       1271|       COMPLETE|\n",
      "|   34569|2014-02-23 00:00:...|      11083|       COMPLETE|\n",
      "+--------+--------------------+-----------+---------------+\n",
      "\n"
     ]
    }
   ],
   "source": [
    "spark.sql(\"select * from itv009538_week5_assignment.orders limit 5\").show()"
   ]
  },
  {
   "cell_type": "code",
   "execution_count": 33,
   "id": "ba169fad",
   "metadata": {},
   "outputs": [
    {
     "name": "stdout",
     "output_type": "stream",
     "text": [
      "+--------------------+-----------+-----------+\n",
      "|            database|  tableName|isTemporary|\n",
      "+--------------------+-----------+-----------+\n",
      "|itv009538_week5_a...|     orders|      false|\n",
      "|itv009538_week5_a...|      test1|      false|\n",
      "|                    |orders_temp|       true|\n",
      "+--------------------+-----------+-----------+\n",
      "\n"
     ]
    }
   ],
   "source": [
    "spark.sql(\"show tables\").show()"
   ]
  },
  {
   "cell_type": "code",
   "execution_count": 34,
   "id": "ec563686",
   "metadata": {},
   "outputs": [
    {
     "name": "stdout",
     "output_type": "stream",
     "text": [
      "+----------------------------+-------------------------------------------------------------------------------------------+-------+\n",
      "|col_name                    |data_type                                                                                  |comment|\n",
      "+----------------------------+-------------------------------------------------------------------------------------------+-------+\n",
      "|order_id                    |int                                                                                        |null   |\n",
      "|order_date                  |string                                                                                     |null   |\n",
      "|customer_id                 |int                                                                                        |null   |\n",
      "|order_status                |string                                                                                     |null   |\n",
      "|                            |                                                                                           |       |\n",
      "|# Detailed Table Information|                                                                                           |       |\n",
      "|Database                    |itv009538_week5_assignment                                                                 |       |\n",
      "|Table                       |orders                                                                                     |       |\n",
      "|Owner                       |itv009538                                                                                  |       |\n",
      "|Created Time                |Tue Nov 14 16:53:03 EST 2023                                                               |       |\n",
      "|Last Access                 |UNKNOWN                                                                                    |       |\n",
      "|Created By                  |Spark 3.1.2                                                                                |       |\n",
      "|Type                        |MANAGED                                                                                    |       |\n",
      "|Provider                    |hive                                                                                       |       |\n",
      "|Table Properties            |[transient_lastDdlTime=1699999006]                                                         |       |\n",
      "|Statistics                  |2999944 bytes                                                                              |       |\n",
      "|Location                    |hdfs://m01.itversity.com:9000/user/itv009538/warehouse/itv009538_week5_assignment.db/orders|       |\n",
      "|Serde Library               |org.apache.hadoop.hive.serde2.lazy.LazySimpleSerDe                                         |       |\n",
      "|InputFormat                 |org.apache.hadoop.mapred.TextInputFormat                                                   |       |\n",
      "|OutputFormat                |org.apache.hadoop.hive.ql.io.HiveIgnoreKeyTextOutputFormat                                 |       |\n",
      "+----------------------------+-------------------------------------------------------------------------------------------+-------+\n",
      "only showing top 20 rows\n",
      "\n"
     ]
    }
   ],
   "source": [
    "spark.sql(\"describe extended itv009538_week5_assignment.orders\").show(truncate=False)"
   ]
  },
  {
   "cell_type": "markdown",
   "id": "8586ef95",
   "metadata": {},
   "source": [
    "## 1.6 Create a external spark table and load data to it from the JSON file"
   ]
  },
  {
   "cell_type": "code",
   "execution_count": 35,
   "id": "ecd37cc4",
   "metadata": {},
   "outputs": [
    {
     "data": {
      "text/html": [
       "<table border='1'>\n",
       "<tr><th></th></tr>\n",
       "</table>\n"
      ],
      "text/plain": [
       "++\n",
       "||\n",
       "++\n",
       "++"
      ]
     },
     "execution_count": 35,
     "metadata": {},
     "output_type": "execute_result"
    }
   ],
   "source": [
    "spark.sql(\"create table itv009538_week5_assignment.orders_external(order_id integer,order_date string,customer_id integer,order_status string) using json location '/public/trendytech/datasets/orders.json'\")"
   ]
  },
  {
   "cell_type": "code",
   "execution_count": 36,
   "id": "7729914c",
   "metadata": {},
   "outputs": [
    {
     "name": "stdout",
     "output_type": "stream",
     "text": [
      "+--------+--------------------+-----------+---------------+\n",
      "|order_id|          order_date|customer_id|   order_status|\n",
      "+--------+--------------------+-----------+---------------+\n",
      "|       1|2013-07-25 00:00:...|      11599|         CLOSED|\n",
      "|       2|2013-07-25 00:00:...|        256|PENDING_PAYMENT|\n",
      "|       3|2013-07-25 00:00:...|      12111|       COMPLETE|\n",
      "|       4|2013-07-25 00:00:...|       8827|         CLOSED|\n",
      "|       5|2013-07-25 00:00:...|      11318|       COMPLETE|\n",
      "+--------+--------------------+-----------+---------------+\n",
      "\n"
     ]
    }
   ],
   "source": [
    "spark.sql(\"select * from itv009538_week5_assignment.orders_external limit 5\").show()"
   ]
  },
  {
   "cell_type": "markdown",
   "id": "903e2392",
   "metadata": {},
   "source": [
    "## 2. Query the data in HDFS using both DataFrames and spark SQL"
   ]
  },
  {
   "cell_type": "code",
   "execution_count": 45,
   "id": "ea6ab5d0",
   "metadata": {},
   "outputs": [
    {
     "data": {
      "text/html": [
       "\n",
       "            <div>\n",
       "                <p><b>SparkSession - hive</b></p>\n",
       "                \n",
       "        <div>\n",
       "            <p><b>SparkContext</b></p>\n",
       "\n",
       "            <p><a href=\"http://g01.itversity.com:35495\">Spark UI</a></p>\n",
       "\n",
       "            <dl>\n",
       "              <dt>Version</dt>\n",
       "                <dd><code>v3.1.2</code></dd>\n",
       "              <dt>Master</dt>\n",
       "                <dd><code>yarn</code></dd>\n",
       "              <dt>AppName</dt>\n",
       "                <dd><code>pyspark-shell</code></dd>\n",
       "            </dl>\n",
       "        </div>\n",
       "        \n",
       "            </div>\n",
       "        "
      ],
      "text/plain": [
       "<pyspark.sql.session.SparkSession at 0x7fad23519048>"
      ]
     },
     "execution_count": 45,
     "metadata": {},
     "output_type": "execute_result"
    }
   ],
   "source": [
    "spark"
   ]
  },
  {
   "cell_type": "code",
   "execution_count": 3,
   "id": "593ccf06",
   "metadata": {},
   "outputs": [
    {
     "name": "stdout",
     "output_type": "stream",
     "text": [
      "+----------+--------+--------------------+-----------+------+--------------------+\n",
      "|product_id|category|        product_name|description| price|           image_url|\n",
      "+----------+--------+--------------------+-----------+------+--------------------+\n",
      "|         1|       2|Quest Q64 10 FT. ...|       null| 59.98|http://images.acm...|\n",
      "|         2|       2|Under Armour Men'...|       null|129.99|http://images.acm...|\n",
      "|         3|       2|Under Armour Men'...|       null| 89.99|http://images.acm...|\n",
      "|         4|       2|Under Armour Men'...|       null| 89.99|http://images.acm...|\n",
      "|         5|       2|Riddell Youth Rev...|       null|199.99|http://images.acm...|\n",
      "+----------+--------+--------------------+-----------+------+--------------------+\n",
      "only showing top 5 rows\n",
      "\n"
     ]
    }
   ],
   "source": [
    "products_df=spark.read \\\n",
    "    .format(\"csv\") \\\n",
    "    .option(\"header\",\"true\") \\\n",
    "    .option(\"inferSchema\",\"true\") \\\n",
    "    .load(\"/user/itv009538/products_folder/products_wh_data.csv\")\n",
    "products_df.show(5)"
   ]
  },
  {
   "cell_type": "code",
   "execution_count": 14,
   "id": "ca6a8ab7",
   "metadata": {},
   "outputs": [],
   "source": [
    "products_df.createOrReplaceTempView(\"products\")"
   ]
  },
  {
   "cell_type": "markdown",
   "id": "be99de66",
   "metadata": {},
   "source": [
    "### Find the total number of products in the given dataset."
   ]
  },
  {
   "cell_type": "code",
   "execution_count": 4,
   "id": "51dd5c5c",
   "metadata": {},
   "outputs": [
    {
     "name": "stdout",
     "output_type": "stream",
     "text": [
      "1345\n"
     ]
    }
   ],
   "source": [
    "total_products=products_df.count()\n",
    "print(total_products)"
   ]
  },
  {
   "cell_type": "code",
   "execution_count": 15,
   "id": "78fe7910",
   "metadata": {},
   "outputs": [
    {
     "name": "stdout",
     "output_type": "stream",
     "text": [
      "+--------+\n",
      "|count(1)|\n",
      "+--------+\n",
      "|    1345|\n",
      "+--------+\n",
      "\n"
     ]
    }
   ],
   "source": [
    "total_products = spark.sql(\"select count(*) from products\")\n",
    "total_products.show()"
   ]
  },
  {
   "cell_type": "markdown",
   "id": "9c1eede2",
   "metadata": {},
   "source": [
    "### Find the number of unique categories of products in the given dataset."
   ]
  },
  {
   "cell_type": "code",
   "execution_count": 7,
   "id": "9abc2cde",
   "metadata": {},
   "outputs": [
    {
     "name": "stdout",
     "output_type": "stream",
     "text": [
      "55\n"
     ]
    }
   ],
   "source": [
    "unique_categories = products_df.select(\"category\").distinct().count()\n",
    "print(unique_categories)"
   ]
  },
  {
   "cell_type": "code",
   "execution_count": 16,
   "id": "6d22f181",
   "metadata": {},
   "outputs": [
    {
     "name": "stdout",
     "output_type": "stream",
     "text": [
      "+-----------------+\n",
      "|unique_categories|\n",
      "+-----------------+\n",
      "|               55|\n",
      "+-----------------+\n",
      "\n"
     ]
    }
   ],
   "source": [
    "unique_categories = spark.sql(\"Select count(distinct category) as unique_categories from products\")\n",
    "unique_categories.show()"
   ]
  },
  {
   "cell_type": "markdown",
   "id": "916d5567",
   "metadata": {},
   "source": [
    "### Find the top 5most expensive products based on their price, along with their product name, category, and image URL."
   ]
  },
  {
   "cell_type": "code",
   "execution_count": 11,
   "id": "c3926fe0",
   "metadata": {},
   "outputs": [
    {
     "name": "stdout",
     "output_type": "stream",
     "text": [
      "+------------------------------------------------+--------+-----------------------------------------------------------------------------------+\n",
      "|product_name                                    |category|image_url                                                                          |\n",
      "+------------------------------------------------+--------+-----------------------------------------------------------------------------------+\n",
      "|SOLE E35 Elliptical                             |10      |http://images.acmesports.sports/SOLE+E35+Elliptical                                |\n",
      "|SOLE F85 Treadmill                              |4       |http://images.acmesports.sports/SOLE+F85+Treadmill                                 |\n",
      "|SOLE F85 Treadmill                              |10      |http://images.acmesports.sports/SOLE+F85+Treadmill                                 |\n",
      "|SOLE F85 Treadmill                              |22      |http://images.acmesports.sports/SOLE+F85+Treadmill                                 |\n",
      "|\"Spalding Beast 60\"\" Glass Portable Basketball \"|47      |http://images.acmesports.sports/Spalding+Beast+60%22+Glass+Portable+Basketball+Hoop|\n",
      "+------------------------------------------------+--------+-----------------------------------------------------------------------------------+\n",
      "\n"
     ]
    }
   ],
   "source": [
    "top5_expensive_products = products_df.select(\"product_name\",\"category\",\"image_url\") \\\n",
    "    .orderBy(\"price\", ascending = False) \\\n",
    "    .limit(5)\n",
    "top5_expensive_products.show(truncate = False)"
   ]
  },
  {
   "cell_type": "code",
   "execution_count": 17,
   "id": "ad1a2c46",
   "metadata": {},
   "outputs": [
    {
     "name": "stdout",
     "output_type": "stream",
     "text": [
      "+------------------------------------------------+--------+-----------------------------------------------------------------------------------+\n",
      "|product_name                                    |category|image_url                                                                          |\n",
      "+------------------------------------------------+--------+-----------------------------------------------------------------------------------+\n",
      "|SOLE E35 Elliptical                             |10      |http://images.acmesports.sports/SOLE+E35+Elliptical                                |\n",
      "|SOLE F85 Treadmill                              |4       |http://images.acmesports.sports/SOLE+F85+Treadmill                                 |\n",
      "|SOLE F85 Treadmill                              |10      |http://images.acmesports.sports/SOLE+F85+Treadmill                                 |\n",
      "|SOLE F85 Treadmill                              |22      |http://images.acmesports.sports/SOLE+F85+Treadmill                                 |\n",
      "|\"Spalding Beast 60\"\" Glass Portable Basketball \"|47      |http://images.acmesports.sports/Spalding+Beast+60%22+Glass+Portable+Basketball+Hoop|\n",
      "+------------------------------------------------+--------+-----------------------------------------------------------------------------------+\n",
      "\n"
     ]
    }
   ],
   "source": [
    "top5_expensive_products = spark.sql(\"select product_name, category, image_url from products order by price desc limit 5\")\n",
    "top5_expensive_products.show(truncate = False)"
   ]
  },
  {
   "cell_type": "markdown",
   "id": "657df152",
   "metadata": {},
   "source": [
    "### Find the number of products in each category that have a price greater than $100. Display the results in a tabular format that shows the category name and the number of products that satisfy the condition."
   ]
  },
  {
   "cell_type": "code",
   "execution_count": 12,
   "id": "9fbd5317",
   "metadata": {},
   "outputs": [
    {
     "name": "stdout",
     "output_type": "stream",
     "text": [
      "+--------+------------------+\n",
      "|Category|Number_of_products|\n",
      "+--------+------------------+\n",
      "|31      |17                |\n",
      "|53      |16                |\n",
      "|34      |15                |\n",
      "|44      |9                 |\n",
      "|12      |3                 |\n",
      "|22      |4                 |\n",
      "|47      |10                |\n",
      "|52      |5                 |\n",
      "|13      |1                 |\n",
      "|6       |5                 |\n",
      "|16      |11                |\n",
      "|3       |5                 |\n",
      "|20      |7                 |\n",
      "|57      |6                 |\n",
      "|54      |6                 |\n",
      "|48      |17                |\n",
      "|5       |11                |\n",
      "|19      |13                |\n",
      "|41      |11                |\n",
      "|43      |23                |\n",
      "+--------+------------------+\n",
      "only showing top 20 rows\n",
      "\n"
     ]
    }
   ],
   "source": [
    "products_above_100 = products_df.filter(\"price > 100\") \\\n",
    "    .groupBy(\"Category\") \\\n",
    "    .count() \\\n",
    "    .withColumnRenamed(\"count\", \"Number_of_products\")\n",
    "products_above_100.show(truncate = False)"
   ]
  },
  {
   "cell_type": "code",
   "execution_count": 19,
   "id": "71f13c07",
   "metadata": {},
   "outputs": [
    {
     "name": "stdout",
     "output_type": "stream",
     "text": [
      "+--------+------------------+\n",
      "|Category|Number_of_products|\n",
      "+--------+------------------+\n",
      "|31      |17                |\n",
      "|53      |16                |\n",
      "|34      |15                |\n",
      "|44      |9                 |\n",
      "|12      |3                 |\n",
      "|22      |4                 |\n",
      "|47      |10                |\n",
      "|52      |5                 |\n",
      "|13      |1                 |\n",
      "|6       |5                 |\n",
      "|16      |11                |\n",
      "|3       |5                 |\n",
      "|20      |7                 |\n",
      "|57      |6                 |\n",
      "|54      |6                 |\n",
      "|48      |17                |\n",
      "|5       |11                |\n",
      "|19      |13                |\n",
      "|41      |11                |\n",
      "|43      |23                |\n",
      "+--------+------------------+\n",
      "only showing top 20 rows\n",
      "\n"
     ]
    }
   ],
   "source": [
    "products_above_100 = spark.sql(\"select Category, count(*) as Number_of_products from products where price > 100 group by Category\")\n",
    "products_above_100.show(truncate = False)"
   ]
  },
  {
   "cell_type": "markdown",
   "id": "97441a2c",
   "metadata": {},
   "source": [
    "### What are the product names and prices of products that have a price greater than $200 and belong to category 5?"
   ]
  },
  {
   "cell_type": "code",
   "execution_count": 13,
   "id": "5a89bf71",
   "metadata": {},
   "outputs": [
    {
     "name": "stdout",
     "output_type": "stream",
     "text": [
      "+------------------------------------------------+------+\n",
      "|product_name                                    |price |\n",
      "+------------------------------------------------+------+\n",
      "|\"Goaliath 54\"\" In-Ground Basketball Hoop with P\"|499.99|\n",
      "|Fitness Gear 300 lb Olympic Weight Set          |209.99|\n",
      "|Teeter Hang Ups NXT-S Inversion Table           |299.99|\n",
      "+------------------------------------------------+------+\n",
      "\n"
     ]
    }
   ],
   "source": [
    "expensive_categroy_products = products_df.select(\"product_name\", \"price\").filter(\"price > 200 and category = 5\")\n",
    "expensive_categroy_products.show(truncate = False)"
   ]
  },
  {
   "cell_type": "code",
   "execution_count": 20,
   "id": "4f3555f9",
   "metadata": {},
   "outputs": [
    {
     "name": "stdout",
     "output_type": "stream",
     "text": [
      "+------------------------------------------------+------+\n",
      "|product_name                                    |price |\n",
      "+------------------------------------------------+------+\n",
      "|\"Goaliath 54\"\" In-Ground Basketball Hoop with P\"|499.99|\n",
      "|Fitness Gear 300 lb Olympic Weight Set          |209.99|\n",
      "|Teeter Hang Ups NXT-S Inversion Table           |299.99|\n",
      "+------------------------------------------------+------+\n",
      "\n"
     ]
    }
   ],
   "source": [
    "expensive_categroy_products = spark.sql(\"select product_name, price from products where price > 200 and category = 5\")\n",
    "expensive_categroy_products.show(truncate = False)"
   ]
  }
 ],
 "metadata": {
  "kernelspec": {
   "display_name": "Pyspark 3",
   "language": "python",
   "name": "pyspark3"
  },
  "language_info": {
   "codemirror_mode": {
    "name": "ipython",
    "version": 3
   },
   "file_extension": ".py",
   "mimetype": "text/x-python",
   "name": "python",
   "nbconvert_exporter": "python",
   "pygments_lexer": "ipython3",
   "version": "3.6.12"
  }
 },
 "nbformat": 4,
 "nbformat_minor": 5
}
