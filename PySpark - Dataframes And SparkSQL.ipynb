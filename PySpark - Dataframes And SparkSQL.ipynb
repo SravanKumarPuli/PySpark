{
 "cells": [
  {
   "cell_type": "code",
   "execution_count": 1,
   "id": "7d900455",
   "metadata": {},
   "outputs": [],
   "source": [
    "from pyspark.sql import SparkSession\n",
    "import getpass\n",
    "username = getpass.getuser()\n",
    "spark = SparkSession. \\\n",
    "\tbuilder. \\\n",
    "\tconfig('spark.ui.port','0'). \\\n",
    "\tconfig(\"spark.sql.warehouse.dir\", f\"/user/itv000173/warehouse\"). \\\n",
    "\tenableHiveSupport(). \\\n",
    "\tmaster('yarn'). \\\n",
    "\tgetOrCreate()"
   ]
  },
  {
   "cell_type": "code",
   "execution_count": 2,
   "id": "80421df1",
   "metadata": {},
   "outputs": [],
   "source": [
    "orders_df = spark.read \\\n",
    ".format(\"csv\") \\\n",
    ".option(\"header\", \"true\") \\\n",
    ".option(\"inferSchema\", \"true\") \\\n",
    ".load(\"/public/trendytech/orders_wh/*\")"
   ]
  },
  {
   "cell_type": "code",
   "execution_count": 3,
   "id": "466be42c",
   "metadata": {},
   "outputs": [],
   "source": [
    "orders_df.createOrReplaceTempView(\"orders\")"
   ]
  },
  {
   "cell_type": "markdown",
   "id": "e366b00e",
   "metadata": {},
   "source": [
    "## Higher Level API's Demo"
   ]
  },
  {
   "cell_type": "markdown",
   "id": "28bfbd81",
   "metadata": {},
   "source": [
    "#### 1. Top 15 customer who placed the most number of orders"
   ]
  },
  {
   "cell_type": "code",
   "execution_count": 7,
   "id": "1a701932",
   "metadata": {},
   "outputs": [],
   "source": [
    "result = orders_df.groupBy(\"customer_id\").count().sort(\"count\", ascending = False).limit(15)"
   ]
  },
  {
   "cell_type": "code",
   "execution_count": 8,
   "id": "9960169b",
   "metadata": {},
   "outputs": [
    {
     "name": "stdout",
     "output_type": "stream",
     "text": [
      "+-----------+-----+\n",
      "|customer_id|count|\n",
      "+-----------+-----+\n",
      "|       5897|   16|\n",
      "|      12431|   16|\n",
      "|        569|   16|\n",
      "|       6316|   16|\n",
      "|      12284|   15|\n",
      "|       4320|   15|\n",
      "|       5624|   15|\n",
      "|       5283|   15|\n",
      "|        221|   15|\n",
      "|       5654|   15|\n",
      "|       6248|   14|\n",
      "|       3708|   14|\n",
      "|       1011|   14|\n",
      "|       8652|   14|\n",
      "|       4517|   14|\n",
      "+-----------+-----+\n",
      "\n"
     ]
    }
   ],
   "source": [
    "result.show()"
   ]
  },
  {
   "cell_type": "code",
   "execution_count": 10,
   "id": "2f20af80",
   "metadata": {},
   "outputs": [],
   "source": [
    "result = spark.sql(\"select customer_id, count(order_id) as count from orders group by customer_id order by count desc limit 15\")"
   ]
  },
  {
   "cell_type": "code",
   "execution_count": 11,
   "id": "0a9979bd",
   "metadata": {},
   "outputs": [
    {
     "name": "stdout",
     "output_type": "stream",
     "text": [
      "+-----------+-----+\n",
      "|customer_id|count|\n",
      "+-----------+-----+\n",
      "|       5897|   16|\n",
      "|      12431|   16|\n",
      "|        569|   16|\n",
      "|       6316|   16|\n",
      "|      12284|   15|\n",
      "|       4320|   15|\n",
      "|       5624|   15|\n",
      "|       5283|   15|\n",
      "|        221|   15|\n",
      "|       5654|   15|\n",
      "|       6248|   14|\n",
      "|       3708|   14|\n",
      "|       1011|   14|\n",
      "|       8652|   14|\n",
      "|       4517|   14|\n",
      "+-----------+-----+\n",
      "\n"
     ]
    }
   ],
   "source": [
    "result.show()"
   ]
  },
  {
   "cell_type": "markdown",
   "id": "e66bd745",
   "metadata": {},
   "source": [
    "#### 2. Find the number of orders under each order status"
   ]
  },
  {
   "cell_type": "code",
   "execution_count": 13,
   "id": "518d19d8",
   "metadata": {},
   "outputs": [],
   "source": [
    "result = orders_df.groupBy(\"order_status\").count()"
   ]
  },
  {
   "cell_type": "code",
   "execution_count": 14,
   "id": "6e05016a",
   "metadata": {},
   "outputs": [
    {
     "name": "stdout",
     "output_type": "stream",
     "text": [
      "+---------------+-----+\n",
      "|   order_status|count|\n",
      "+---------------+-----+\n",
      "|PENDING_PAYMENT|15030|\n",
      "|       COMPLETE|22899|\n",
      "|        ON_HOLD| 3798|\n",
      "| PAYMENT_REVIEW|  729|\n",
      "|     PROCESSING| 8275|\n",
      "|         CLOSED| 7556|\n",
      "|SUSPECTED_FRAUD| 1558|\n",
      "|        PENDING| 7610|\n",
      "|       CANCELED| 1428|\n",
      "+---------------+-----+\n",
      "\n"
     ]
    }
   ],
   "source": [
    "result.show()"
   ]
  },
  {
   "cell_type": "code",
   "execution_count": 15,
   "id": "33ff7e2d",
   "metadata": {},
   "outputs": [],
   "source": [
    "result = spark.sql(\"select order_status, count(order_id) as count from orders group by order_status\")"
   ]
  },
  {
   "cell_type": "code",
   "execution_count": 16,
   "id": "09af7c1d",
   "metadata": {},
   "outputs": [
    {
     "name": "stdout",
     "output_type": "stream",
     "text": [
      "+---------------+-----+\n",
      "|   order_status|count|\n",
      "+---------------+-----+\n",
      "|PENDING_PAYMENT|15030|\n",
      "|       COMPLETE|22899|\n",
      "|        ON_HOLD| 3798|\n",
      "| PAYMENT_REVIEW|  729|\n",
      "|     PROCESSING| 8275|\n",
      "|         CLOSED| 7556|\n",
      "|SUSPECTED_FRAUD| 1558|\n",
      "|        PENDING| 7610|\n",
      "|       CANCELED| 1428|\n",
      "+---------------+-----+\n",
      "\n"
     ]
    }
   ],
   "source": [
    "result.show()"
   ]
  },
  {
   "cell_type": "markdown",
   "id": "47cb0b88",
   "metadata": {},
   "source": [
    "#### 3. Number of active customers (who placed atleast one order)"
   ]
  },
  {
   "cell_type": "code",
   "execution_count": 17,
   "id": "9cfbef8b",
   "metadata": {},
   "outputs": [],
   "source": [
    "result = orders_df.select(\"customer_id\").distinct().count()"
   ]
  },
  {
   "cell_type": "code",
   "execution_count": 21,
   "id": "57fa8fff",
   "metadata": {},
   "outputs": [
    {
     "name": "stdout",
     "output_type": "stream",
     "text": [
      "12405\n"
     ]
    }
   ],
   "source": [
    "print(result)"
   ]
  },
  {
   "cell_type": "code",
   "execution_count": 25,
   "id": "ace43880",
   "metadata": {},
   "outputs": [],
   "source": [
    "result = spark.sql(\"select count(distinct customer_id) as count from orders\")"
   ]
  },
  {
   "cell_type": "code",
   "execution_count": 26,
   "id": "52cf3e57",
   "metadata": {},
   "outputs": [
    {
     "name": "stdout",
     "output_type": "stream",
     "text": [
      "+-----+\n",
      "|count|\n",
      "+-----+\n",
      "|12405|\n",
      "+-----+\n",
      "\n"
     ]
    }
   ],
   "source": [
    "result.show()"
   ]
  },
  {
   "cell_type": "markdown",
   "id": "d7e1c370",
   "metadata": {},
   "source": [
    "#### 4. Customers with most number of closed orders"
   ]
  },
  {
   "cell_type": "code",
   "execution_count": 27,
   "id": "9010689a",
   "metadata": {},
   "outputs": [],
   "source": [
    "result = orders_df.filter(\"order_status = 'CLOSED'\").groupBy(\"customer_id\").count().sort(\"count\", ascending = False)"
   ]
  },
  {
   "cell_type": "code",
   "execution_count": 28,
   "id": "76b88488",
   "metadata": {},
   "outputs": [
    {
     "name": "stdout",
     "output_type": "stream",
     "text": [
      "+-----------+-----+\n",
      "|customer_id|count|\n",
      "+-----------+-----+\n",
      "|       1833|    6|\n",
      "|       1363|    5|\n",
      "|       1687|    5|\n",
      "|       5493|    5|\n",
      "|       7948|    4|\n",
      "|       2768|    4|\n",
      "|      10263|    4|\n",
      "|       2236|    4|\n",
      "|       2403|    4|\n",
      "|       7879|    4|\n",
      "|       4573|    4|\n",
      "|       7850|    4|\n",
      "|      12431|    4|\n",
      "|       1521|    4|\n",
      "|      10111|    4|\n",
      "|        437|    4|\n",
      "|      10018|    4|\n",
      "|       5319|    4|\n",
      "|       2774|    4|\n",
      "|       3631|    4|\n",
      "+-----------+-----+\n",
      "only showing top 20 rows\n",
      "\n"
     ]
    }
   ],
   "source": [
    "result.show()"
   ]
  },
  {
   "cell_type": "code",
   "execution_count": 30,
   "id": "c8b9e483",
   "metadata": {},
   "outputs": [],
   "source": [
    "result = spark.sql(\"select customer_id, count(*) as count from orders where order_status = 'CLOSED' group by customer_id order by count desc\")"
   ]
  },
  {
   "cell_type": "code",
   "execution_count": 31,
   "id": "a045e3f6",
   "metadata": {},
   "outputs": [
    {
     "name": "stdout",
     "output_type": "stream",
     "text": [
      "+-----------+-----+\n",
      "|customer_id|count|\n",
      "+-----------+-----+\n",
      "|       1833|    6|\n",
      "|       1363|    5|\n",
      "|       1687|    5|\n",
      "|       5493|    5|\n",
      "|       7948|    4|\n",
      "|       2768|    4|\n",
      "|      10263|    4|\n",
      "|       2236|    4|\n",
      "|       2403|    4|\n",
      "|       7879|    4|\n",
      "|       4573|    4|\n",
      "|       7850|    4|\n",
      "|      12431|    4|\n",
      "|       1521|    4|\n",
      "|      10111|    4|\n",
      "|        437|    4|\n",
      "|      10018|    4|\n",
      "|       5319|    4|\n",
      "|       2774|    4|\n",
      "|       3631|    4|\n",
      "+-----------+-----+\n",
      "only showing top 20 rows\n",
      "\n"
     ]
    }
   ],
   "source": [
    "result.show()"
   ]
  },
  {
   "cell_type": "code",
   "execution_count": null,
   "id": "b18506c6",
   "metadata": {},
   "outputs": [],
   "source": []
  }
 ],
 "metadata": {
  "kernelspec": {
   "display_name": "Pyspark 3",
   "language": "python",
   "name": "pyspark3"
  },
  "language_info": {
   "codemirror_mode": {
    "name": "ipython",
    "version": 3
   },
   "file_extension": ".py",
   "mimetype": "text/x-python",
   "name": "python",
   "nbconvert_exporter": "python",
   "pygments_lexer": "ipython3",
   "version": "3.6.12"
  }
 },
 "nbformat": 4,
 "nbformat_minor": 5
}
